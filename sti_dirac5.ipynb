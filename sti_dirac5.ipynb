{
 "cells": [
  {
   "attachments": {},
   "cell_type": "markdown",
   "metadata": {},
   "source": [
    "# Calculating the speech transmission index from an impulse response"
   ]
  },
  {
   "cell_type": "code",
   "execution_count": 1,
   "id": "15e97fb6",
   "metadata": {},
   "outputs": [],
   "source": [
    "import numpy as np\n",
    "import scipy.signal as signal\n",
    "import plotly.graph_objects as go\n",
    "import plotly.express as px\n",
    "from plotly.subplots import make_subplots\n",
    "from scipy.fft import fft\n",
    "import math\n",
    "from pyfilterbank import FractionalOctaveFilterbank\n",
    "import utilities as util\n",
    "import pandas as pd"
   ]
  },
  {
   "attachments": {},
   "cell_type": "markdown",
   "id": "f0983786",
   "metadata": {},
   "source": [
    "## Step 1. Define the input\n",
    "For the purpose of demonstration, let's set the input signal as the unit impulse function, padded out to 1.6 seconds long."
   ]
  },
  {
   "cell_type": "code",
   "execution_count": 2,
   "id": "d0c53c6b",
   "metadata": {
    "tags": []
   },
   "outputs": [],
   "source": [
    "Fs = 48000  # Sample rate (Hz)\n",
    "t = 1.6     # Period of sampling (seconds)\n",
    "N = int(Fs*t)    # Total number of samples\n",
    "\n",
    "impulse_response = signal.unit_impulse(N)"
   ]
  },
  {
   "cell_type": "code",
   "execution_count": 3,
   "id": "3dd2913f",
   "metadata": {
    "tags": []
   },
   "outputs": [
    {
     "data": {
      "application/vnd.jupyter.widget-view+json": {
       "model_id": "209204e6e5404f8e8306650fd230799a",
       "version_major": 2,
       "version_minor": 0
      },
      "text/plain": [
       "FigureWidget({\n",
       "    'data': [{'type': 'scatter',\n",
       "              'uid': '8f53a4ed-be07-4ed8-8b86-01e8b0d9a514',\n",
       "              'x': array([0.00000000e+00, 2.08333333e-05, 4.16666667e-05, ..., 1.59993750e+00,\n",
       "                          1.59995833e+00, 1.59997917e+00]),\n",
       "              'y': array([1., 0., 0., ..., 0., 0., 0.])}],\n",
       "    'layout': {'template': '...',\n",
       "               'title': {'text': 'Impulse Response', 'x': 0.5, 'xanchor': 'center'},\n",
       "               'xaxis': {'title': {'text': 'Time (seconds)'}},\n",
       "               'yaxis': {'title': {'text': 'Amplitude'}}}\n",
       "})"
      ]
     },
     "execution_count": 3,
     "metadata": {},
     "output_type": "execute_result"
    }
   ],
   "source": [
    "# Plotting the impulse response\n",
    "x = np.arange(N)/Fs\n",
    "y = impulse_response\n",
    "\n",
    "fig_ir = go.FigureWidget()\n",
    "fig_ir.add_scatter(x=x, y=y)\n",
    "fig_ir.update_layout(title = {'text':'Impulse Response',\n",
    "                              'xanchor':'center',\n",
    "                              'x':0.5},\n",
    "                     xaxis_title = 'Time (seconds)',\n",
    "                     yaxis_title = 'Amplitude'\n",
    "                     )\n",
    "fig_ir"
   ]
  },
  {
   "cell_type": "code",
   "execution_count": 4,
   "id": "44b4d028",
   "metadata": {
    "tags": []
   },
   "outputs": [],
   "source": [
    "# Calculating the transfer function\n",
    "transfer_function = fft(impulse_response)\n",
    "transfer_function_magnitude = abs(transfer_function)\n",
    "transfer_function_phase = np.angle(transfer_function, deg=True)"
   ]
  },
  {
   "cell_type": "code",
   "execution_count": 5,
   "id": "fb248753",
   "metadata": {
    "tags": []
   },
   "outputs": [
    {
     "data": {
      "application/vnd.jupyter.widget-view+json": {
       "model_id": "f95c23b932c14601bf0ec8c57349e912",
       "version_major": 2,
       "version_minor": 0
      },
      "text/plain": [
       "FigureWidget({\n",
       "    'data': [{'name': 'Magnitude',\n",
       "              'type': 'scatter',\n",
       "              'uid': '0988df59-9640-4959-94f7-91479b16bca6',\n",
       "              'x': array([0.0000000e+00, 6.2500000e-01, 1.2500000e+00, ..., 2.3998125e+04,\n",
       "                          2.3998750e+04, 2.3999375e+04]),\n",
       "              'y': array([1., 1., 1., ..., 1., 1., 1.])},\n",
       "             {'name': 'Phase',\n",
       "              'type': 'scatter',\n",
       "              'uid': '21766a58-a26e-4683-944c-386a624ae9ae',\n",
       "              'x': array([0.0000000e+00, 6.2500000e-01, 1.2500000e+00, ..., 2.3998125e+04,\n",
       "                          2.3998750e+04, 2.3999375e+04]),\n",
       "              'y': array([-0.,  0.,  0., ...,  0.,  0.,  0.])}],\n",
       "    'layout': {'template': '...',\n",
       "               'title': {'text': 'Transfer Function', 'x': 0.5, 'xanchor': 'center'},\n",
       "               'xaxis': {'title': {'text': 'Frequency (Hertz)'}, 'type': 'log'}}\n",
       "})"
      ]
     },
     "execution_count": 5,
     "metadata": {},
     "output_type": "execute_result"
    }
   ],
   "source": [
    "# Plotting the magnitude and phase response\n",
    "x = np.arange(0,Fs/2,1/t)\n",
    "y1 = transfer_function_magnitude[0:int(transfer_function.size/2)]\n",
    "y2 = transfer_function_phase[0:int(transfer_function.size/2)]\n",
    "fig_spectrum = go.FigureWidget()\n",
    "fig_spectrum.add_scatter(x=x,y=y1,name='Magnitude')\n",
    "fig_spectrum.add_scatter(x=x,y=y2,name='Phase')\n",
    "fig_spectrum.update_layout(title = {'text':'Transfer Function',\n",
    "                                    'xanchor':'center',\n",
    "                                    'x':0.5},\n",
    "                           xaxis_title = 'Frequency (Hertz)'\n",
    "                           )\n",
    "fig_spectrum.update_xaxes(type='log')\n",
    "fig_spectrum"
   ]
  },
  {
   "cell_type": "markdown",
   "id": "ba9d36dc",
   "metadata": {},
   "source": [
    "## Step 2: Filter Input into Octave Bands"
   ]
  },
  {
   "cell_type": "code",
   "execution_count": 6,
   "id": "6a3e9947",
   "metadata": {},
   "outputs": [
    {
     "data": {
      "application/vnd.jupyter.widget-view+json": {
       "model_id": "f2f1e00d03f3499cbd3666544ec5874f",
       "version_major": 2,
       "version_minor": 0
      },
      "text/plain": [
       "FigureWidget({\n",
       "    'data': [{'name': '125',\n",
       "              'type': 'scatter',\n",
       "              'uid': '6424af2a-f6fe-4e50-9387-b359363dce86',\n",
       "              'x': array([0.00000000e+00, 2.08333333e-05, 4.16666667e-05, ..., 1.59993750e+00,\n",
       "                          1.59995833e+00, 1.59997917e+00]),\n",
       "              'y': array([5.10693677e-09, 2.03394110e-08, 5.56445644e-08, ..., 5.68925268e-50,\n",
       "                          5.60691639e-50, 5.52396100e-50])},\n",
       "             {'name': '250',\n",
       "              'type': 'scatter',\n",
       "              'uid': '76490c70-65db-4e2f-a26e-a9073009ba76',\n",
       "              'x': array([0.00000000e+00, 2.08333333e-05, 4.16666667e-05, ..., 1.59993750e+00,\n",
       "                          1.59995833e+00, 1.59997917e+00]),\n",
       "              'y': array([ 8.03494864e-08,  3.18488796e-07,  8.66288631e-07, ..., -1.69179477e-96,\n",
       "                          -1.60614487e-96, -1.52000131e-96])},\n",
       "             {'name': '500',\n",
       "              'type': 'scatter',\n",
       "              'uid': '68cae242-fdbc-4579-8d89-7e14b3ca6c3b',\n",
       "              'x': array([0.00000000e+00, 2.08333333e-05, 4.16666667e-05, ..., 1.59993750e+00,\n",
       "                          1.59995833e+00, 1.59997917e+00]),\n",
       "              'y': array([1.24231754e-006, 4.87136876e-006, 1.30728468e-005, ..., 3.30478106e-190,\n",
       "                          4.90735878e-190, 6.48026206e-190])},\n",
       "             {'name': '1000',\n",
       "              'type': 'scatter',\n",
       "              'uid': 'fde57f6b-58a3-41bb-a465-7635c0fc9690',\n",
       "              'x': array([0.00000000e+00, 2.08333333e-05, 4.16666667e-05, ..., 1.59993750e+00,\n",
       "                          1.59995833e+00, 1.59997917e+00]),\n",
       "              'y': array([1.85138157e-05, 7.06716427e-05, 1.83168299e-04, ..., 0.00000000e+00,\n",
       "                          0.00000000e+00, 0.00000000e+00])},\n",
       "             {'name': '2000',\n",
       "              'type': 'scatter',\n",
       "              'uid': 'a8344155-90df-45b8-b355-8faebad307f4',\n",
       "              'x': array([0.00000000e+00, 2.08333333e-05, 4.16666667e-05, ..., 1.59993750e+00,\n",
       "                          1.59995833e+00, 1.59997917e+00]),\n",
       "              'y': array([0.00025426, 0.00089933, 0.0020972 , ..., 0.        , 0.        ,\n",
       "                          0.        ])},\n",
       "             {'name': '4000',\n",
       "              'type': 'scatter',\n",
       "              'uid': '38dc6aa5-8478-4a08-b4f4-271d50fd5deb',\n",
       "              'x': array([0.00000000e+00, 2.08333333e-05, 4.16666667e-05, ..., 1.59993750e+00,\n",
       "                          1.59995833e+00, 1.59997917e+00]),\n",
       "              'y': array([0.00285557, 0.00772637, 0.01135053, ..., 0.        , 0.        ,\n",
       "                          0.        ])},\n",
       "             {'name': '8000',\n",
       "              'type': 'scatter',\n",
       "              'uid': '88f643cd-73e4-432a-a1bf-af944a242890',\n",
       "              'x': array([0.00000000e+00, 2.08333333e-05, 4.16666667e-05, ..., 1.59993750e+00,\n",
       "                          1.59995833e+00, 1.59997917e+00]),\n",
       "              'y': array([ 1.62291187e-002, -2.79043737e-003, -6.47725068e-002, ...,\n",
       "                           4.94065646e-324,  4.94065646e-324,  0.00000000e+000])}],\n",
       "    'layout': {'template': '...',\n",
       "               'title': {'text': 'Octave-band Filtered Impulse Response', 'x': 0.5, 'xanchor': 'center'},\n",
       "               'xaxis': {'range': [0, 0.1], 'title': {'text': 'Time (seconds)'}},\n",
       "               'yaxis': {'title': {'text': 'Amplitude'}}}\n",
       "})"
      ]
     },
     "execution_count": 6,
     "metadata": {},
     "output_type": "execute_result"
    }
   ],
   "source": [
    "filterbank = FractionalOctaveFilterbank(sample_rate=Fs, nth_oct=1, order=4, start_band = -3, end_band = 3, edge_correction_percent=-4.25) # Note that band 0 is 1kHz, and band number is spaced 1/nth_oct apart.\n",
    "\n",
    "ir_octavebandfiltered, states = filterbank.filter(impulse_response, ffilt=True)\n",
    "\n",
    "fig_ir = go.FigureWidget()\n",
    "\n",
    "x = np.arange(0,ir_octavebandfiltered.shape[0]/Fs,1/Fs)\n",
    "for index in np.arange(ir_octavebandfiltered.shape[1]):\n",
    "    y = ir_octavebandfiltered[:,index]\n",
    "    fig_ir.add_scatter(x=x, y=y, name=int(filterbank.center_frequencies[index]))\n",
    "\n",
    "fig_ir.update_layout(title = {'text':'Octave-band Filtered Impulse Response',\n",
    "                              'xanchor':'center',\n",
    "                              'x':0.5},\n",
    "                     xaxis_title = 'Time (seconds)',\n",
    "                     yaxis_title = 'Amplitude'\n",
    "                     )\n",
    "fig_ir.update_xaxes(range=[0,0.1])\n",
    "fig_ir"
   ]
  },
  {
   "cell_type": "code",
   "execution_count": 7,
   "id": "9b5bd7ae",
   "metadata": {},
   "outputs": [
    {
     "data": {
      "application/vnd.jupyter.widget-view+json": {
       "model_id": "7d60e5b19c824a4c97b08812cf59e77f",
       "version_major": 2,
       "version_minor": 0
      },
      "text/plain": [
       "FigureWidget({\n",
       "    'data': [{'name': '125',\n",
       "              'type': 'scatter',\n",
       "              'uid': '5a12be29-a761-4d2c-84f9-1c77f46c2212',\n",
       "              'x': array([0.0000000e+00, 6.2500000e-01, 1.2500000e+00, ..., 2.3998125e+04,\n",
       "                          2.3998750e+04, 2.3999375e+04]),\n",
       "              'y': array([-183.86871308, -185.20306302, -181.72807018, ..., -183.86734219,\n",
       "                          -183.86733369, -183.86732848])},\n",
       "             {'name': '250',\n",
       "              'type': 'scatter',\n",
       "              'uid': '542cdd56-5257-4f8d-bd9a-5a6630802dff',\n",
       "              'x': array([0.0000000e+00, 6.2500000e-01, 1.2500000e+00, ..., 2.3998125e+04,\n",
       "                          2.3998750e+04, 2.3999375e+04]),\n",
       "              'y': array([-159.90002376, -159.90492157, -159.97872614, ..., -159.90002781,\n",
       "                          -159.90002775, -159.9000277 ])},\n",
       "             {'name': '500',\n",
       "              'type': 'scatter',\n",
       "              'uid': '6d7b6995-fe3b-40b8-a1dc-d2c63559f185',\n",
       "              'x': array([0.0000000e+00, 6.2500000e-01, 1.2500000e+00, ..., 2.3998125e+04,\n",
       "                          2.3998750e+04, 2.3999375e+04]),\n",
       "              'y': array([-136.04324038, -136.04326004, -136.04355481, ..., -136.04324059,\n",
       "                          -136.04324059, -136.04324059])},\n",
       "             {'name': '1000',\n",
       "              'type': 'scatter',\n",
       "              'uid': '05039b9a-5fe8-4570-b884-20758c772394',\n",
       "              'x': array([0.0000000e+00, 6.2500000e-01, 1.2500000e+00, ..., 2.3998125e+04,\n",
       "                          2.3998750e+04, 2.3999375e+04]),\n",
       "              'y': array([-112.40517857, -112.40517866, -112.40517987, ..., -112.40517856,\n",
       "                          -112.40517856, -112.40517856])},\n",
       "             {'name': '2000',\n",
       "              'type': 'scatter',\n",
       "              'uid': 'c2883d1e-4e29-494c-a245-27fbf4066f45',\n",
       "              'x': array([0.0000000e+00, 6.2500000e-01, 1.2500000e+00, ..., 2.3998125e+04,\n",
       "                          2.3998750e+04, 2.3999375e+04]),\n",
       "              'y': array([-89.18457297, -89.18457297, -89.18457298, ..., -89.18457297,\n",
       "                          -89.18457297, -89.18457297])},\n",
       "             {'name': '4000',\n",
       "              'type': 'scatter',\n",
       "              'uid': '45b9a074-9c22-4744-985d-2ba8d2d772c9',\n",
       "              'x': array([0.0000000e+00, 6.2500000e-01, 1.2500000e+00, ..., 2.3998125e+04,\n",
       "                          2.3998750e+04, 2.3999375e+04]),\n",
       "              'y': array([-66.72337213, -66.72337213, -66.72337213, ..., -66.72337213,\n",
       "                          -66.72337213, -66.72337213])},\n",
       "             {'name': '8000',\n",
       "              'type': 'scatter',\n",
       "              'uid': '7885d49a-9c4c-44bc-abb6-8c531b1a130a',\n",
       "              'x': array([0.0000000e+00, 6.2500000e-01, 1.2500000e+00, ..., 2.3998125e+04,\n",
       "                          2.3998750e+04, 2.3999375e+04]),\n",
       "              'y': array([-45.50878432, -45.50878432, -45.50878432, ..., -45.50878432,\n",
       "                          -45.50878432, -45.50878432])},\n",
       "             {'line': {'dash': 'dot', 'width': 6},\n",
       "              'name': 'Cumulative',\n",
       "              'type': 'scatter',\n",
       "              'uid': '592d12d5-eae3-4678-b95f-fa1c44295385',\n",
       "              'x': array([0.0000000e+00, 6.2500000e-01, 1.2500000e+00, ..., 2.3998125e+04,\n",
       "                          2.3998750e+04, 2.3999375e+04]),\n",
       "              'y': array([-22.36428425, -22.36428432, -22.36428541, ..., -22.36428425,\n",
       "                          -22.36428425, -22.36428425])}],\n",
       "    'layout': {'template': '...',\n",
       "               'title': {'text': 'Transfer Function (Octave Bands)', 'x': 0.5, 'xanchor': 'center'},\n",
       "               'xaxis': {'range': [1.3010299956639813, 4.301029995663981],\n",
       "                         'title': {'text': 'Frequency (Hertz)'},\n",
       "                         'type': 'log'},\n",
       "               'yaxis': {'range': [-60, 0]}}\n",
       "})"
      ]
     },
     "execution_count": 7,
     "metadata": {},
     "output_type": "execute_result"
    }
   ],
   "source": [
    "x = np.arange(0,Fs/2,1/t)\n",
    "\n",
    "fig_tf_octavebandfiltered = go.FigureWidget()\n",
    "\n",
    "for index in np.arange(ir_octavebandfiltered.shape[1]):\n",
    "    y = 20*np.log10(abs(fft(ir_octavebandfiltered[:,index])))[0:len(x)]\n",
    "    fig_tf_octavebandfiltered.add_scatter(x=x, y=y, name=int(filterbank.center_frequencies[index]))\n",
    "\n",
    "y = 10*np.log10(abs(fft(np.sum(ir_octavebandfiltered,axis=1)))[0:len(x)])\n",
    "fig_tf_octavebandfiltered.add_scatter(x=x, y=y, name='Cumulative', line=dict(width=6,dash='dot'))\n",
    "\n",
    "fig_tf_octavebandfiltered.update_layout(title = {'text':'Transfer Function (Octave Bands)',\n",
    "                                    'xanchor':'center',\n",
    "                                    'x':0.5},\n",
    "                           xaxis_title = 'Frequency (Hertz)'\n",
    "                           )\n",
    "fig_tf_octavebandfiltered.update_xaxes(type='log')\n",
    "fig_tf_octavebandfiltered.update_xaxes(range=[np.log10(20),np.log10(20000)])\n",
    "fig_tf_octavebandfiltered.update_yaxes(range=[-60,0])\n",
    "fig_tf_octavebandfiltered"
   ]
  },
  {
   "attachments": {},
   "cell_type": "markdown",
   "id": "4ff843eb",
   "metadata": {},
   "source": [
    "## Step 3: Calculate the Modulation Transfer Function\n"
   ]
  },
  {
   "cell_type": "markdown",
   "id": "695acb2a",
   "metadata": {},
   "source": [
    "Calculate the energy of the signal in each octave band:"
   ]
  },
  {
   "cell_type": "code",
   "execution_count": 8,
   "id": "28de9b93",
   "metadata": {
    "tags": []
   },
   "outputs": [],
   "source": [
    "energy = {}\n",
    "\n",
    "for index in np.arange(ir_octavebandfiltered.shape[1]):\n",
    "    energy.update( {int(filterbank.center_frequencies[index]):(ir_octavebandfiltered[:,index]**2).sum()} )"
   ]
  },
  {
   "cell_type": "markdown",
   "id": "04e5cce3",
   "metadata": {},
   "source": [
    "Calculate the modulation transfer function at each octave band:"
   ]
  },
  {
   "cell_type": "code",
   "execution_count": 9,
   "id": "2c318683",
   "metadata": {},
   "outputs": [],
   "source": [
    "mtf = {}\n",
    "\n",
    "for index in np.arange(ir_octavebandfiltered.shape[1]):\n",
    "    mtf_complex = fft((ir_octavebandfiltered[:,index]**2)/energy[int(filterbank.center_frequencies[index])])\n",
    "    mtf_magnitude = abs(mtf_complex)\n",
    "    mtf_phase = np.angle(mtf_complex)\n",
    "    mtf.update( {int(filterbank.center_frequencies[index]): {'complex':mtf_complex,\n",
    "                                                             'magnitude':mtf_magnitude,\n",
    "                                                             'phase':mtf_phase\n",
    "    }} )"
   ]
  },
  {
   "cell_type": "code",
   "execution_count": 10,
   "id": "3a5b2791",
   "metadata": {},
   "outputs": [
    {
     "data": {
      "application/vnd.jupyter.widget-view+json": {
       "model_id": "d8bab8421f2a484499404e1162ab2347",
       "version_major": 2,
       "version_minor": 0
      },
      "text/plain": [
       "FigureWidget({\n",
       "    'data': [{'mode': 'markers',\n",
       "              'name': 'Mag @ 125',\n",
       "              'type': 'scatter',\n",
       "              'uid': 'fc1c8862-503f-4737-bf17-0441b2ee6ff9',\n",
       "              'x': array([ 0.   ,  0.625,  1.25 ,  1.875,  2.5  ,  3.125,  3.75 ,  4.375,  5.   ,\n",
       "                           5.625,  6.25 ,  6.875,  7.5  ,  8.125,  8.75 ,  9.375, 10.   , 10.625,\n",
       "                          11.25 , 11.875]),\n",
       "              'y': array([1.        , 0.99978314, 0.99913388, 0.99805611, 0.99655623, 0.994643  ,\n",
       "                          0.99232737, 0.98962226, 0.98654227, 0.98310345, 0.979323  , 0.97521899,\n",
       "                          0.97081006, 0.96611517, 0.96115336, 0.95594353, 0.95050423, 0.9448535 ,\n",
       "                          0.93900876, 0.93298667])},\n",
       "             {'mode': 'markers',\n",
       "              'name': 'Mag @ 250',\n",
       "              'type': 'scatter',\n",
       "              'uid': '42b3d8e3-e9c7-41f5-ad46-1afac9964772',\n",
       "              'x': array([ 0.   ,  0.625,  1.25 ,  1.875,  2.5  ,  3.125,  3.75 ,  4.375,  5.   ,\n",
       "                           5.625,  6.25 ,  6.875,  7.5  ,  8.125,  8.75 ,  9.375, 10.   , 10.625,\n",
       "                          11.25 , 11.875]),\n",
       "              'y': array([1.        , 0.99994577, 0.99978317, 0.99951243, 0.99913397, 0.99864836,\n",
       "                          0.99805631, 0.99735871, 0.99655659, 0.9956511 , 0.99464356, 0.99353539,\n",
       "                          0.99232817, 0.99102355, 0.98962332, 0.98812936, 0.98654363, 0.98486819,\n",
       "                          0.98310515, 0.98125669])},\n",
       "             {'mode': 'markers',\n",
       "              'name': 'Mag @ 500',\n",
       "              'type': 'scatter',\n",
       "              'uid': 'aae25828-7c01-4ae6-a24d-71dfd75b8f92',\n",
       "              'x': array([ 0.   ,  0.625,  1.25 ,  1.875,  2.5  ,  3.125,  3.75 ,  4.375,  5.   ,\n",
       "                           5.625,  6.25 ,  6.875,  7.5  ,  8.125,  8.75 ,  9.375, 10.   , 10.625,\n",
       "                          11.25 , 11.875]),\n",
       "              'y': array([1.        , 0.99998645, 0.99994579, 0.99987806, 0.99978326, 0.99966144,\n",
       "                          0.99951264, 0.99933692, 0.99913434, 0.99890498, 0.99864893, 0.99836628,\n",
       "                          0.99805713, 0.99772161, 0.99735982, 0.99697192, 0.99655803, 0.99611831,\n",
       "                          0.99565292, 0.99516202])},\n",
       "             {'mode': 'markers',\n",
       "              'name': 'Mag @ 1000',\n",
       "              'type': 'scatter',\n",
       "              'uid': '4355659c-16cf-431e-878b-4609c998a9b3',\n",
       "              'x': array([ 0.   ,  0.625,  1.25 ,  1.875,  2.5  ,  3.125,  3.75 ,  4.375,  5.   ,\n",
       "                           5.625,  6.25 ,  6.875,  7.5  ,  8.125,  8.75 ,  9.375, 10.   , 10.625,\n",
       "                          11.25 , 11.875]),\n",
       "              'y': array([1.        , 0.99999662, 0.99998647, 0.99996956, 0.99994589, 0.99991545,\n",
       "                          0.99987826, 0.99983432, 0.99978362, 0.99972619, 0.99966201, 0.9995911 ,\n",
       "                          0.99951346, 0.9994291 , 0.99933803, 0.99924026, 0.9991358 , 0.99902465,\n",
       "                          0.99890682, 0.99878234])},\n",
       "             {'mode': 'markers',\n",
       "              'name': 'Mag @ 2000',\n",
       "              'type': 'scatter',\n",
       "              'uid': '3cda5f30-ff9c-4c8f-a407-fbbf9caf54af',\n",
       "              'x': array([ 0.   ,  0.625,  1.25 ,  1.875,  2.5  ,  3.125,  3.75 ,  4.375,  5.   ,\n",
       "                           5.625,  6.25 ,  6.875,  7.5  ,  8.125,  8.75 ,  9.375, 10.   , 10.625,\n",
       "                          11.25 , 11.875]),\n",
       "              'y': array([1.        , 0.99999916, 0.99999664, 0.99999244, 0.99998656, 0.999979  ,\n",
       "                          0.99996976, 0.99995884, 0.99994625, 0.99993197, 0.99991602, 0.99989838,\n",
       "                          0.99987907, 0.99985809, 0.99983542, 0.99981108, 0.99978507, 0.99975738,\n",
       "                          0.99972801, 0.99969697])},\n",
       "             {'mode': 'markers',\n",
       "              'name': 'Mag @ 4000',\n",
       "              'type': 'scatter',\n",
       "              'uid': 'f468264f-bf33-43a2-85de-2b6164d819c9',\n",
       "              'x': array([ 0.   ,  0.625,  1.25 ,  1.875,  2.5  ,  3.125,  3.75 ,  4.375,  5.   ,\n",
       "                           5.625,  6.25 ,  6.875,  7.5  ,  8.125,  8.75 ,  9.375, 10.   , 10.625,\n",
       "                          11.25 , 11.875]),\n",
       "              'y': array([1.        , 0.9999998 , 0.99999918, 0.99999816, 0.99999673, 0.99999488,\n",
       "                          0.99999263, 0.99998997, 0.9999869 , 0.99998342, 0.99997953, 0.99997524,\n",
       "                          0.99997053, 0.99996541, 0.99995989, 0.99995395, 0.99994761, 0.99994086,\n",
       "                          0.9999337 , 0.99992613])},\n",
       "             {'mode': 'markers',\n",
       "              'name': 'Mag @ 8000',\n",
       "              'type': 'scatter',\n",
       "              'uid': '0e89cb0d-5faf-4089-909d-480d13f37c6e',\n",
       "              'x': array([ 0.   ,  0.625,  1.25 ,  1.875,  2.5  ,  3.125,  3.75 ,  4.375,  5.   ,\n",
       "                           5.625,  6.25 ,  6.875,  7.5  ,  8.125,  8.75 ,  9.375, 10.   , 10.625,\n",
       "                          11.25 , 11.875]),\n",
       "              'y': array([1.        , 0.99999995, 0.99999981, 0.99999957, 0.99999924, 0.99999882,\n",
       "                          0.99999829, 0.99999768, 0.99999697, 0.99999616, 0.99999526, 0.99999427,\n",
       "                          0.99999318, 0.99999199, 0.99999071, 0.99998934, 0.99998787, 0.9999863 ,\n",
       "                          0.99998465, 0.99998289])}],\n",
       "    'layout': {'template': '...',\n",
       "               'title': {'text': 'Modulation Transfer Function', 'x': 0.5, 'xanchor': 'center'},\n",
       "               'xaxis': {'range': [-0.2041199826559248, 1.0969100130080565],\n",
       "                         'title': {'text': 'Frequency (Hertz)'},\n",
       "                         'type': 'log'}}\n",
       "})"
      ]
     },
     "execution_count": 10,
     "metadata": {},
     "output_type": "execute_result"
    }
   ],
   "source": [
    "fig_mtf = go.FigureWidget()\n",
    "\n",
    "x = np.arange(0,Fs,1/t)\n",
    "\n",
    "# Find maximum x value to be parsed to the plotting routine to reduce calculation time.\n",
    "closest_match = util.find_nearest(x,12.5)\n",
    "x_max = np.where(x==closest_match)[0][0] # [0][0] is to convert array to value.\n",
    "\n",
    "# Generate plot\n",
    "for index in np.arange(ir_octavebandfiltered.shape[1]):\n",
    "    y = mtf[int(filterbank.center_frequencies[index])]['magnitude']\n",
    "\n",
    "    fig_mtf.add_trace(go.Scatter(x=x[0:x_max],y=y[0:x_max],mode='markers',name='Mag @ '+str(int(filterbank.center_frequencies[index]))))\n",
    "    fig_mtf.update_layout(    title = {'text':'Modulation Transfer Function',\n",
    "                                       'xanchor':'center',\n",
    "                                       'x':0.5},\n",
    "                              xaxis_title = 'Frequency (Hertz)')\n",
    "fig_mtf.update_xaxes(range=[np.log10(0.625),np.log10(12.5)],type='log')\n",
    "fig_mtf"
   ]
  },
  {
   "cell_type": "code",
   "execution_count": 11,
   "id": "7056eb03",
   "metadata": {},
   "outputs": [
    {
     "data": {
      "text/plain": [
       "20"
      ]
     },
     "execution_count": 11,
     "metadata": {},
     "output_type": "execute_result"
    }
   ],
   "source": [
    "closest_match = util.find_nearest(x,12.5)\n",
    "x_max = np.where(x==closest_match)\n",
    "x_max[0][0]"
   ]
  },
  {
   "cell_type": "code",
   "execution_count": 12,
   "id": "ee569fd8",
   "metadata": {},
   "outputs": [],
   "source": [
    "mtf_table_dict = {125:{},250:{},500:{},1000:{},2000:{},4000:{},8000:{}} # Initialise mtf table dictionary\n",
    "for oct_band in mtf:\n",
    "    for modulation_freq in [0.63, 0.8, 1.0, 1.25, 1.6, 2.0, 2.5, 3.15, 4.0, 5.0, 6.3, 8.0, 10.0, 12.5]:\n",
    "        closest_match = util.find_nearest(x,modulation_freq)\n",
    "        position = np.where(x==closest_match)\n",
    "        mtf_table_dict[oct_band][modulation_freq]=mtf[oct_band]['magnitude'][position][0]\n"
   ]
  },
  {
   "cell_type": "code",
   "execution_count": 13,
   "id": "786c1bf4",
   "metadata": {},
   "outputs": [
    {
     "data": {
      "text/html": [
       "<div>\n",
       "<style scoped>\n",
       "    .dataframe tbody tr th:only-of-type {\n",
       "        vertical-align: middle;\n",
       "    }\n",
       "\n",
       "    .dataframe tbody tr th {\n",
       "        vertical-align: top;\n",
       "    }\n",
       "\n",
       "    .dataframe thead th {\n",
       "        text-align: right;\n",
       "    }\n",
       "</style>\n",
       "<table border=\"1\" class=\"dataframe\">\n",
       "  <thead>\n",
       "    <tr style=\"text-align: right;\">\n",
       "      <th></th>\n",
       "      <th>125</th>\n",
       "      <th>250</th>\n",
       "      <th>500</th>\n",
       "      <th>1000</th>\n",
       "      <th>2000</th>\n",
       "      <th>4000</th>\n",
       "      <th>8000</th>\n",
       "    </tr>\n",
       "  </thead>\n",
       "  <tbody>\n",
       "    <tr>\n",
       "      <th>0.6300</th>\n",
       "      <td>0.9998</td>\n",
       "      <td>0.9999</td>\n",
       "      <td>1.0000</td>\n",
       "      <td>1.0000</td>\n",
       "      <td>1.0000</td>\n",
       "      <td>1.0000</td>\n",
       "      <td>1.0000</td>\n",
       "    </tr>\n",
       "    <tr>\n",
       "      <th>0.8000</th>\n",
       "      <td>0.9998</td>\n",
       "      <td>0.9999</td>\n",
       "      <td>1.0000</td>\n",
       "      <td>1.0000</td>\n",
       "      <td>1.0000</td>\n",
       "      <td>1.0000</td>\n",
       "      <td>1.0000</td>\n",
       "    </tr>\n",
       "    <tr>\n",
       "      <th>1.0000</th>\n",
       "      <td>0.9991</td>\n",
       "      <td>0.9998</td>\n",
       "      <td>0.9999</td>\n",
       "      <td>1.0000</td>\n",
       "      <td>1.0000</td>\n",
       "      <td>1.0000</td>\n",
       "      <td>1.0000</td>\n",
       "    </tr>\n",
       "    <tr>\n",
       "      <th>1.2500</th>\n",
       "      <td>0.9991</td>\n",
       "      <td>0.9998</td>\n",
       "      <td>0.9999</td>\n",
       "      <td>1.0000</td>\n",
       "      <td>1.0000</td>\n",
       "      <td>1.0000</td>\n",
       "      <td>1.0000</td>\n",
       "    </tr>\n",
       "    <tr>\n",
       "      <th>1.6000</th>\n",
       "      <td>0.9981</td>\n",
       "      <td>0.9995</td>\n",
       "      <td>0.9999</td>\n",
       "      <td>1.0000</td>\n",
       "      <td>1.0000</td>\n",
       "      <td>1.0000</td>\n",
       "      <td>1.0000</td>\n",
       "    </tr>\n",
       "    <tr>\n",
       "      <th>2.0000</th>\n",
       "      <td>0.9981</td>\n",
       "      <td>0.9995</td>\n",
       "      <td>0.9999</td>\n",
       "      <td>1.0000</td>\n",
       "      <td>1.0000</td>\n",
       "      <td>1.0000</td>\n",
       "      <td>1.0000</td>\n",
       "    </tr>\n",
       "    <tr>\n",
       "      <th>2.5000</th>\n",
       "      <td>0.9966</td>\n",
       "      <td>0.9991</td>\n",
       "      <td>0.9998</td>\n",
       "      <td>0.9999</td>\n",
       "      <td>1.0000</td>\n",
       "      <td>1.0000</td>\n",
       "      <td>1.0000</td>\n",
       "    </tr>\n",
       "    <tr>\n",
       "      <th>3.1500</th>\n",
       "      <td>0.9946</td>\n",
       "      <td>0.9986</td>\n",
       "      <td>0.9997</td>\n",
       "      <td>0.9999</td>\n",
       "      <td>1.0000</td>\n",
       "      <td>1.0000</td>\n",
       "      <td>1.0000</td>\n",
       "    </tr>\n",
       "    <tr>\n",
       "      <th>4.0000</th>\n",
       "      <td>0.9923</td>\n",
       "      <td>0.9981</td>\n",
       "      <td>0.9995</td>\n",
       "      <td>0.9999</td>\n",
       "      <td>1.0000</td>\n",
       "      <td>1.0000</td>\n",
       "      <td>1.0000</td>\n",
       "    </tr>\n",
       "    <tr>\n",
       "      <th>5.0000</th>\n",
       "      <td>0.9865</td>\n",
       "      <td>0.9966</td>\n",
       "      <td>0.9991</td>\n",
       "      <td>0.9998</td>\n",
       "      <td>0.9999</td>\n",
       "      <td>1.0000</td>\n",
       "      <td>1.0000</td>\n",
       "    </tr>\n",
       "    <tr>\n",
       "      <th>6.3000</th>\n",
       "      <td>0.9793</td>\n",
       "      <td>0.9946</td>\n",
       "      <td>0.9986</td>\n",
       "      <td>0.9997</td>\n",
       "      <td>0.9999</td>\n",
       "      <td>1.0000</td>\n",
       "      <td>1.0000</td>\n",
       "    </tr>\n",
       "    <tr>\n",
       "      <th>8.0000</th>\n",
       "      <td>0.9661</td>\n",
       "      <td>0.9910</td>\n",
       "      <td>0.9977</td>\n",
       "      <td>0.9994</td>\n",
       "      <td>0.9999</td>\n",
       "      <td>1.0000</td>\n",
       "      <td>1.0000</td>\n",
       "    </tr>\n",
       "    <tr>\n",
       "      <th>10.0000</th>\n",
       "      <td>0.9505</td>\n",
       "      <td>0.9865</td>\n",
       "      <td>0.9966</td>\n",
       "      <td>0.9991</td>\n",
       "      <td>0.9998</td>\n",
       "      <td>0.9999</td>\n",
       "      <td>1.0000</td>\n",
       "    </tr>\n",
       "    <tr>\n",
       "      <th>12.5000</th>\n",
       "      <td>0.9268</td>\n",
       "      <td>0.9793</td>\n",
       "      <td>0.9946</td>\n",
       "      <td>0.9987</td>\n",
       "      <td>0.9997</td>\n",
       "      <td>0.9999</td>\n",
       "      <td>1.0000</td>\n",
       "    </tr>\n",
       "  </tbody>\n",
       "</table>\n",
       "</div>"
      ],
      "text/plain": [
       "          125    250    500    1000   2000   4000   8000\n",
       "0.6300  0.9998 0.9999 1.0000 1.0000 1.0000 1.0000 1.0000\n",
       "0.8000  0.9998 0.9999 1.0000 1.0000 1.0000 1.0000 1.0000\n",
       "1.0000  0.9991 0.9998 0.9999 1.0000 1.0000 1.0000 1.0000\n",
       "1.2500  0.9991 0.9998 0.9999 1.0000 1.0000 1.0000 1.0000\n",
       "1.6000  0.9981 0.9995 0.9999 1.0000 1.0000 1.0000 1.0000\n",
       "2.0000  0.9981 0.9995 0.9999 1.0000 1.0000 1.0000 1.0000\n",
       "2.5000  0.9966 0.9991 0.9998 0.9999 1.0000 1.0000 1.0000\n",
       "3.1500  0.9946 0.9986 0.9997 0.9999 1.0000 1.0000 1.0000\n",
       "4.0000  0.9923 0.9981 0.9995 0.9999 1.0000 1.0000 1.0000\n",
       "5.0000  0.9865 0.9966 0.9991 0.9998 0.9999 1.0000 1.0000\n",
       "6.3000  0.9793 0.9946 0.9986 0.9997 0.9999 1.0000 1.0000\n",
       "8.0000  0.9661 0.9910 0.9977 0.9994 0.9999 1.0000 1.0000\n",
       "10.0000 0.9505 0.9865 0.9966 0.9991 0.9998 0.9999 1.0000\n",
       "12.5000 0.9268 0.9793 0.9946 0.9987 0.9997 0.9999 1.0000"
      ]
     },
     "execution_count": 13,
     "metadata": {},
     "output_type": "execute_result"
    }
   ],
   "source": [
    "pd.set_option('display.float_format', '{:.4f}'.format)\n",
    "mtf_df = pd.DataFrame(mtf_table_dict)\n",
    "mtf_df"
   ]
  },
  {
   "attachments": {},
   "cell_type": "markdown",
   "id": "37592b19",
   "metadata": {},
   "source": [
    "# Work-In-Progress Below"
   ]
  },
  {
   "cell_type": "code",
   "execution_count": 14,
   "id": "b23e26ca",
   "metadata": {},
   "outputs": [],
   "source": [
    "# Calculating the Level dependent auditory masking\n",
    "\n",
    "level_of_adjacent_lower_octave_band = 9 #L_k-1 - PLACEHOLDER\n",
    "intensity_of_adjacent_lower_octave_band = 10**(level_of_adjacent_lower_octave_band/10) # I_k-1\n",
    "\n",
    "if level_of_adjacent_lower_octave_band < 63:\n",
    "    auditory_masking_dB = 0.5 * level_of_adjacent_lower_octave_band - 65\n",
    "elif level_of_adjacent_lower_octave_band >= 63 and level_of_adjacent_lower_octave_band < 67:\n",
    "    auditory_masking_dB = 1.8 * level_of_adjacent_lower_octave_band - 146.9\n",
    "elif level_of_adjacent_lower_octave_band >= 67 and level_of_adjacent_lower_octave_band < 100:\n",
    "    auditory_masking_dB = 0.5 * level_of_adjacent_lower_octave_band - 59.8\n",
    "elif level_of_adjacent_lower_octave_band >= 100:\n",
    "    auditory_masking_dB = -10\n",
    "\n",
    "auditory_masking_factor = 10**(auditory_masking_dB/10) #amf\n",
    "\n",
    "masking_intensity = intensity_of_adjacent_lower_octave_band * auditory_masking_factor #I_am,k\n"
   ]
  },
  {
   "cell_type": "code",
   "execution_count": 15,
   "id": "a690a5d8",
   "metadata": {},
   "outputs": [],
   "source": [
    "# Absolute speech reception threshold\n",
    "ABSOLUTE_SPEECH_RECEPTION_THRESHOLD = {125:46,250:27,500:12,1000:6.5,2000:7.5,4000:8,8000:12} # also known as ART\n",
    "RECEPTION_THRESHOLD_INTENSITY = {125:10**(46/10),250:10**(27/10),500:10**(12/10),1000:10**(6.5/10),2000:10**(7.5/10),4000:8,8000:10**(12/10)}"
   ]
  },
  {
   "cell_type": "code",
   "execution_count": 16,
   "id": "1fa12923",
   "metadata": {},
   "outputs": [],
   "source": [
    "# Gender-specific octave band weighting and redundancy factors - Table A.3 of 60268-16 IEC2011(E)\n",
    "MTI_OCTAVE_BAND_WEIGHTING_FACTORS = {\n",
    "    'male':{\n",
    "        'alpha':{125:0.085,250:0.127,500:0.230,1000:0.233,2000:0.309,4000:0.224,8000:0.173},\n",
    "        'beta': {125:0.085,250:0.078,500:0.065,1000:0.011,2000:0.047,4000:0.095,8000:None}\n",
    "    },\n",
    "    'female':{\n",
    "        'alpha':{125:None,250:0.117,500:0.223,1000:0.216,2000:0.328,4000:0.250,8000:0.194},\n",
    "        'beta': {125:None,250:0.099,500:0.066,1000:0.062,2000:0.025,4000:0.076,8000:None}\n",
    "    }\n",
    "}\n"
   ]
  },
  {
   "cell_type": "code",
   "execution_count": 17,
   "id": "48c8fdc4",
   "metadata": {},
   "outputs": [],
   "source": [
    "# Gender-specific spectra of STI test signals\n",
    "# Note - These are related to speech spectra?\n",
    "STI_TEST_SIGNAL_OCTAVE_BAND_LEVELS = {\n",
    "    'male':{125:2.9, 250:2.9, 500:-0.8, 1000:-6.8, 2000:-12.8, 4000:-18.8, 8000:-24.8},\n",
    "    'female':{125:None, 250:5.3, 500:-1.9, 1000:-9.1, 2000:-15.8, 4000:-16.7, 8000:-18.0}\n",
    "}\n"
   ]
  }
 ],
 "metadata": {
  "interpreter": {
   "hash": "1675197accac31dd2f50d96d801e8c2c4a776e7ee16ebdadf3204985ad84f86a"
  },
  "kernelspec": {
   "display_name": "Python 3.9.2 64-bit ('env': venv)",
   "name": "python3"
  },
  "language_info": {
   "codemirror_mode": {
    "name": "ipython",
    "version": 3
   },
   "file_extension": ".py",
   "mimetype": "text/x-python",
   "name": "python",
   "nbconvert_exporter": "python",
   "pygments_lexer": "ipython3",
   "version": "3.9.2"
  }
 },
 "nbformat": 4,
 "nbformat_minor": 5
}
